{
 "cells": [
  {
   "cell_type": "markdown",
   "id": "9729e909-7e66-4aff-91f6-5114830a7e3e",
   "metadata": {},
   "source": [
    "**Q1. What is MongoDB? Explain non-relational databases in short. In which scenarios it is preferred to use\n",
    "MongoDB over SQL databases?**"
   ]
  },
  {
   "cell_type": "markdown",
   "id": "0dfd4dc2-5e14-4828-a590-673a246cc471",
   "metadata": {},
   "source": [
    "A1. MongoDB is a popular NoSQL database that falls under the category of non-relational databases. Non-relational databases, also known as NoSQL databases, are designed to handle unstructured or semi-structured data efficiently. Unlike traditional SQL databases that use a fixed schema and structured query language (SQL) for data manipulation, NoSQL databases like MongoDB offer a more flexible schema and use various query languages or APIs for data access."
   ]
  },
  {
   "cell_type": "markdown",
   "id": "c3ed5a59-4e4d-4ba0-b670-b65d4fddf862",
   "metadata": {},
   "source": [
    "**When to Use MongoDB over SQL Databases:**\n",
    "\n",
    "- **Scalability:** MongoDB is preferred in scenarios that require horizontal scalability, where you need to distribute data across multiple servers or clusters to handle large amounts of data and high traffic.\n",
    "- **Unstructured Data:** If your application deals with unstructured or semi-structured data, such as JSON documents, MongoDB's document-oriented structure makes it a good choice for storing and querying such data.\n",
    "- **Flexible Schema:** MongoDB's flexible schema allows for easier data modeling and accommodates changes in data structure over time without requiring extensive schema migrations.\n",
    "- **Real-time Analytics:** For real-time analytics, logging, or event processing applications, MongoDB's ability to handle high write throughput and support for sharding makes it suitable for capturing and processing large volumes of data.\n",
    "- **Agile Development:** In agile development environments where rapid prototyping, frequent updates, and iterative changes are common, MongoDB's schema flexibility and ease of development can be advantageous."
   ]
  },
  {
   "cell_type": "markdown",
   "id": "ca003e22-8387-46e9-a49a-181729d146c1",
   "metadata": {},
   "source": [
    "**Q2. State and Explain the features of MongoDB.**"
   ]
  },
  {
   "cell_type": "markdown",
   "id": "9dfa35be-55c3-4a1f-bf6a-f81fa16b10c0",
   "metadata": {},
   "source": [
    "A2.\n",
    "\n",
    "**Document-Oriented:**\n",
    "- MongoDB stores data in JSON-like documents, making it easy to represent hierarchical relationships and handle complex data structures.\n",
    "- Each document can have a different schema, allowing for flexibility in data modeling without requiring a predefined schema for the entire database.\n",
    "\n",
    "**Flexible Schema:**\n",
    "- MongoDB's schema is dynamic, allowing fields to be added or modified on the fly without downtime or costly schema migrations.\n",
    "- This flexibility is particularly beneficial in agile development environments where requirements may change frequently.\n",
    "\n",
    "**High Scalability:**\n",
    "- MongoDB is designed for horizontal scalability, allowing data to be distributed across multiple servers or clusters.\n",
    "- It supports sharding, which partitions data across shards (horizontal partitions), enabling linear scalability as data grows.\n",
    "\n",
    "**Replication and High Availability:**\n",
    "- MongoDB supports replica sets, which are groups of MongoDB servers that maintain copies of the same data.\n",
    "- Replica sets provide automatic failover and data redundancy, ensuring high availability and fault tolerance.\n",
    "\n",
    "**Indexing and Querying:**\n",
    "- MongoDB supports various types of indexes, including single-field, compound, geospatial, and text indexes, to optimize query performance.\n",
    "- It provides a powerful query language with support for complex queries, aggregation pipelines, and geospatial queries."
   ]
  },
  {
   "cell_type": "markdown",
   "id": "5a75817a-e1ab-4efd-9ff6-e4f4fedafde3",
   "metadata": {},
   "source": [
    "**Q3. Write a code to connect MongoDB to Python. Also, create a database and a collection in MongoDB.**"
   ]
  },
  {
   "cell_type": "code",
   "execution_count": null,
   "id": "16e870df-f09e-4e9c-b876-30994edb04b7",
   "metadata": {},
   "outputs": [],
   "source": [
    "import pymongo\n",
    "\n",
    "client = pymongo.MongoClient(\"mongodb://localhost:27017/\")\n",
    "\n",
    "mydb = client[\"mydatabase\"]\n",
    "\n",
    "mycol = mydb[\"customers\"]\n",
    "\n",
    "mydict = { \"name\": \"John Doe\", \"email\": \"johndoe@example.com\" }\n",
    "x = mycol.insert_one(mydict)\n",
    "\n",
    "print(x.inserted_id)\n",
    "\n",
    "for doc in mycol.find():\n",
    "    print(doc)"
   ]
  },
  {
   "cell_type": "markdown",
   "id": "ee5cf98b-af40-4ec0-a9b9-776af7b5f58a",
   "metadata": {},
   "source": [
    "**Q4. Using the database and the collection created in question number 3, write a code to insert one record,\n",
    "and insert many records. Use the find() and find_one() methods to print the inserted record.**"
   ]
  },
  {
   "cell_type": "code",
   "execution_count": null,
   "id": "e3ad034a-34ca-4312-b03b-966ada7fa48f",
   "metadata": {},
   "outputs": [],
   "source": [
    "import pymongo\n",
    "\n",
    "client = pymongo.MongoClient(\"mongodb://localhost:27017/\")\n",
    "\n",
    "mydb = client[\"mydatabase\"]\n",
    "mycol = mydb[\"customers\"]\n",
    "\n",
    "one_record = { \"name\": \"Jane Smith\", \"email\": \"janesmith@example.com\" }\n",
    "inserted_one = mycol.insert_one(one_record)\n",
    "print(\"Inserted ID for one record:\", inserted_one.inserted_id)\n",
    "\n",
    "many_records = [\n",
    "    { \"name\": \"Alice Johnson\", \"email\": \"alice@example.com\" },\n",
    "    { \"name\": \"Bob Anderson\", \"email\": \"bob@example.com\" },\n",
    "    { \"name\": \"Eva Martinez\", \"email\": \"eva@example.com\" }\n",
    "]\n",
    "inserted_many = mycol.insert_many(many_records)\n",
    "print(\"Inserted IDs for many records:\", inserted_many.inserted_ids)\n",
    "\n",
    "print(\"\\nFinding one record:\")\n",
    "print(mycol.find_one({ \"name\": \"Jane Smith\" })) \n",
    "\n",
    "print(\"\\nFinding all records:\")\n",
    "for record in mycol.find():\n",
    "    print(record)"
   ]
  },
  {
   "cell_type": "markdown",
   "id": "adf81c34-1a32-4ca1-b854-da21b2bb8b6e",
   "metadata": {},
   "source": [
    "**Q5. Explain how you can use the find() method to query the MongoDB database. Write a simple code to\n",
    "demonstrate this.**"
   ]
  },
  {
   "cell_type": "markdown",
   "id": "3d544cca-2e61-4265-8d32-d33ae9906c3e",
   "metadata": {},
   "source": [
    "A5. The find() method in MongoDB is used to query and retrieve documents from a collection based on specified criteria. It allows you to filter documents, sort the results, limit the number of returned documents, and project specific fields from the documents."
   ]
  },
  {
   "cell_type": "code",
   "execution_count": null,
   "id": "a96d9538-a608-4b3c-9505-61e1edfb6925",
   "metadata": {},
   "outputs": [],
   "source": [
    "import pymongo\n",
    "\n",
    "client = pymongo.MongoClient(\"mongodb://localhost:27017/\")\n",
    "\n",
    "mydb = client[\"mydatabase\"]\n",
    "mycol = mydb[\"customers\"]\n",
    "\n",
    "for doc in mycol.find():\n",
    "    print(doc)"
   ]
  },
  {
   "cell_type": "markdown",
   "id": "dd3ec9af-363a-459b-84b5-be24312542af",
   "metadata": {},
   "source": [
    "**Q6. Explain the sort() method. Give an example to demonstrate sorting in MongoDB.**"
   ]
  },
  {
   "cell_type": "markdown",
   "id": "afd1069b-4d4c-4706-be2a-a681d813a360",
   "metadata": {},
   "source": [
    "A6. The sort() method in MongoDB is used to sort the results of a query in either ascending or descending order based on one or more fields in the documents. It allows you to specify the sorting order for each field and can be combined with the find() method to retrieve sorted documents from a collection."
   ]
  },
  {
   "cell_type": "code",
   "execution_count": null,
   "id": "6db97409-aaa2-4b27-9068-6b5e712bcbc7",
   "metadata": {},
   "outputs": [],
   "source": [
    "import pymongo\n",
    "\n",
    "client = pymongo.MongoClient(\"mongodb://localhost:27017/\")\n",
    "\n",
    "mydb = client[\"mydatabase\"]\n",
    "mycol = mydb[\"users\"]\n",
    "\n",
    "sample_data = [\n",
    "    { \"name\": \"Alice\", \"age\": 30 },\n",
    "    { \"name\": \"Bob\", \"age\": 25 },\n",
    "    { \"name\": \"Charlie\", \"age\": 35 },\n",
    "    { \"name\": \"David\", \"age\": 28 },\n",
    "]\n",
    "\n",
    "mycol.insert_many(sample_data)\n",
    "\n",
    "sort_order = [(\"age\", pymongo.ASCENDING), (\"name\", pymongo.DESCENDING)]\n",
    "results = mycol.find().sort(sort_order)\n",
    "\n",
    "for doc in results:\n",
    "    print(doc)"
   ]
  },
  {
   "cell_type": "markdown",
   "id": "61a7a6ca-fd76-4314-bb46-82f4c5e6fa67",
   "metadata": {},
   "source": [
    "**Q7. Explain why delete_one(), delete_many(), and drop() is used.**"
   ]
  },
  {
   "cell_type": "markdown",
   "id": "4bc43034-2b78-4feb-a571-e1e338880eaf",
   "metadata": {},
   "source": [
    "A7. The delete_one(), delete_many(), and drop() methods in MongoDB are used for different purposes related to deleting data or dropping collections entirely."
   ]
  },
  {
   "cell_type": "markdown",
   "id": "fe30ca11-55bd-4f99-a2d1-e47c4aabcd5b",
   "metadata": {},
   "source": [
    "**delete_one() Method:**\n",
    "- The delete_one() method is used to delete a single document that matches a specified query criteria from a collection.\n",
    "- It deletes the first document that matches the query criteria and then stops.\n",
    "- If multiple documents match the criteria, only one document is deleted."
   ]
  },
  {
   "cell_type": "code",
   "execution_count": null,
   "id": "3f6099e1-8431-49b4-92a0-4d3789dd3b8b",
   "metadata": {},
   "outputs": [],
   "source": [
    "mycol.delete_one({ \"name\": \"Alice\" })"
   ]
  },
  {
   "cell_type": "markdown",
   "id": "5da958b7-73f7-4c7e-8bcb-e5323c0f0246",
   "metadata": {},
   "source": [
    "**delete_many() Method:**\n",
    "- The delete_many() method is used to delete multiple documents that match a specified query criteria from a collection.\n",
    "- It deletes all documents that match the query criteria, not just the first one.\n",
    "- If no documents match the criteria, no documents are deleted."
   ]
  },
  {
   "cell_type": "code",
   "execution_count": null,
   "id": "455be322-ca84-449c-97ee-5d496953909f",
   "metadata": {},
   "outputs": [],
   "source": [
    "mycol.delete_many({ \"age\": { \"$gt\": 30 } })"
   ]
  },
  {
   "cell_type": "markdown",
   "id": "8ba2825d-0b5e-4ddd-ad3e-cc4780c9074f",
   "metadata": {},
   "source": [
    "**drop() Method:**\n",
    "- The drop() method is used to drop or delete an entire collection from the database.\n",
    "- It removes the collection and all its documents permanently. The collection itself is deleted, not just its contents.\n",
    "- Dropping a collection is irreversible, so use this method with caution."
   ]
  },
  {
   "cell_type": "code",
   "execution_count": null,
   "id": "407ce79f-901d-4f80-a93a-ab8978f43d84",
   "metadata": {},
   "outputs": [],
   "source": [
    "mycol.drop()"
   ]
  },
  {
   "cell_type": "code",
   "execution_count": null,
   "id": "d18d3a1f-8611-4e86-b088-300e1f91fb1b",
   "metadata": {},
   "outputs": [],
   "source": []
  }
 ],
 "metadata": {
  "kernelspec": {
   "display_name": "Python 3 (ipykernel)",
   "language": "python",
   "name": "python3"
  },
  "language_info": {
   "codemirror_mode": {
    "name": "ipython",
    "version": 3
   },
   "file_extension": ".py",
   "mimetype": "text/x-python",
   "name": "python",
   "nbconvert_exporter": "python",
   "pygments_lexer": "ipython3",
   "version": "3.12.2"
  }
 },
 "nbformat": 4,
 "nbformat_minor": 5
}
